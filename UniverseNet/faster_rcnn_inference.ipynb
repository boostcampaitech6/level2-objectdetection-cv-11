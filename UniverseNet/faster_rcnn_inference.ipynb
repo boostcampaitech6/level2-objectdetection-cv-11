{
 "cells": [
  {
   "cell_type": "code",
   "execution_count": 6,
   "id": "3fd75793",
   "metadata": {},
   "outputs": [],
   "source": [
    "import mmcv\n",
    "from mmcv import Config\n",
    "from mmdet.datasets import (build_dataloader, build_dataset,\n",
    "                            replace_ImageToTensor)\n",
    "from mmdet.models import build_detector\n",
    "from mmdet.apis import single_gpu_test\n",
    "from mmcv.runner import load_checkpoint\n",
    "import os\n",
    "from mmcv.parallel import MMDataParallel\n",
    "import pandas as pd\n",
    "from pandas import DataFrame\n",
    "from pycocotools.coco import COCO\n",
    "import numpy as np\n",
    "\n",
    "from mmcv.runner import load_checkpoint\n",
    "from mmdet.models import build_detector\n",
    "from mmdet.apis import inference_detector, show_result_pyplot\n",
    "import matplotlib.pyplot as plt\n"
   ]
  },
  {
   "cell_type": "code",
   "execution_count": 7,
   "id": "edda58ea",
   "metadata": {},
   "outputs": [],
   "source": [
    "classes = (\"General trash\", \"Paper\", \"Paper pack\", \"Metal\", \"Glass\", \n",
    "           \"Plastic\", \"Styrofoam\", \"Plastic bag\", \"Battery\", \"Clothing\")\n",
    "\n",
    "# config file 들고오기\n",
    "cfg = Config.fromfile('/data/ephemeral/home/UniverseNet/configs/universenet/universenet101_gfl_fp16_4x4_mstrain_480_960_2x_coco.py')\n",
    "\n",
    "root='/data/ephemeral/home/dataset/'\n",
    "\n",
    "epoch = 'latest'\n",
    "\n",
    "# dataset config 수정\n",
    "cfg.data.test.classes = classes\n",
    "cfg.data.test.img_prefix = root\n",
    "cfg.data.test.ann_file = root + 'test.json'\n",
    "cfg.data.test.pipeline[1]['img_scale'] = (512,512) # Resize\n",
    "cfg.data.test.test_mode = True\n",
    "\n",
    "cfg.data.samples_per_gpu = 4\n",
    "\n",
    "cfg.seed=2021\n",
    "cfg.gpu_ids = [1]\n",
    "cfg.work_dir = './work_dirs/universenet_aug_epoch_50'\n",
    "\n",
    "cfg.model.bbox_head.num_classes = 10\n",
    "\n",
    "cfg.optimizer_config.grad_clip = dict(max_norm=35, norm_type=2)\n",
    "cfg.model.train_cfg = None"
   ]
  },
  {
   "cell_type": "code",
   "execution_count": 8,
   "id": "b086a8cf",
   "metadata": {},
   "outputs": [
    {
     "name": "stdout",
     "output_type": "stream",
     "text": [
      "loading annotations into memory...\n",
      "Done (t=0.01s)\n",
      "creating index...\n",
      "index created!\n"
     ]
    }
   ],
   "source": [
    "# build dataset & dataloader\n",
    "dataset = build_dataset(cfg.data.test)\n",
    "data_loader = build_dataloader(\n",
    "        dataset,\n",
    "        samples_per_gpu=1,\n",
    "        workers_per_gpu=cfg.data.workers_per_gpu,\n",
    "        dist=False,\n",
    "        shuffle=False)"
   ]
  },
  {
   "cell_type": "code",
   "execution_count": 9,
   "id": "8d833dc8",
   "metadata": {},
   "outputs": [
    {
     "name": "stdout",
     "output_type": "stream",
     "text": [
      "4871\n"
     ]
    }
   ],
   "source": [
    "image_list = os.listdir(root + 'test')\n",
    "print(len(image_list))"
   ]
  },
  {
   "cell_type": "code",
   "execution_count": 10,
   "id": "83b3eae6",
   "metadata": {},
   "outputs": [
    {
     "name": "stdout",
     "output_type": "stream",
     "text": [
      "load checkpoint from local path: ./work_dirs/universenet_aug_epoch_50/latest.pth\n"
     ]
    },
    {
     "name": "stderr",
     "output_type": "stream",
     "text": [
      "2024-01-18 09:35:38,853 - root - INFO - DeformConv2dPack backbone.layer2.0.convs.0 is upgraded to version 2.\n",
      "2024-01-18 09:35:38,855 - root - INFO - DeformConv2dPack backbone.layer2.0.convs.1 is upgraded to version 2.\n",
      "2024-01-18 09:35:38,856 - root - INFO - DeformConv2dPack backbone.layer2.0.convs.2 is upgraded to version 2.\n",
      "2024-01-18 09:35:38,861 - root - INFO - DeformConv2dPack backbone.layer2.1.convs.0 is upgraded to version 2.\n",
      "2024-01-18 09:35:38,863 - root - INFO - DeformConv2dPack backbone.layer2.1.convs.1 is upgraded to version 2.\n",
      "2024-01-18 09:35:38,864 - root - INFO - DeformConv2dPack backbone.layer2.1.convs.2 is upgraded to version 2.\n",
      "2024-01-18 09:35:38,868 - root - INFO - DeformConv2dPack backbone.layer2.2.convs.0 is upgraded to version 2.\n",
      "2024-01-18 09:35:38,869 - root - INFO - DeformConv2dPack backbone.layer2.2.convs.1 is upgraded to version 2.\n",
      "2024-01-18 09:35:38,871 - root - INFO - DeformConv2dPack backbone.layer2.2.convs.2 is upgraded to version 2.\n",
      "2024-01-18 09:35:38,874 - root - INFO - DeformConv2dPack backbone.layer2.3.convs.0 is upgraded to version 2.\n",
      "2024-01-18 09:35:38,876 - root - INFO - DeformConv2dPack backbone.layer2.3.convs.1 is upgraded to version 2.\n",
      "2024-01-18 09:35:38,877 - root - INFO - DeformConv2dPack backbone.layer2.3.convs.2 is upgraded to version 2.\n",
      "2024-01-18 09:35:38,891 - root - INFO - DeformConv2dPack backbone.layer3.0.convs.0 is upgraded to version 2.\n",
      "2024-01-18 09:35:38,895 - root - INFO - DeformConv2dPack backbone.layer3.0.convs.1 is upgraded to version 2.\n",
      "2024-01-18 09:35:38,898 - root - INFO - DeformConv2dPack backbone.layer3.0.convs.2 is upgraded to version 2.\n",
      "2024-01-18 09:35:38,910 - root - INFO - DeformConv2dPack backbone.layer3.1.convs.0 is upgraded to version 2.\n",
      "2024-01-18 09:35:38,911 - root - INFO - DeformConv2dPack backbone.layer3.1.convs.1 is upgraded to version 2.\n",
      "2024-01-18 09:35:38,913 - root - INFO - DeformConv2dPack backbone.layer3.1.convs.2 is upgraded to version 2.\n",
      "2024-01-18 09:35:38,917 - root - INFO - DeformConv2dPack backbone.layer3.2.convs.0 is upgraded to version 2.\n",
      "2024-01-18 09:35:38,918 - root - INFO - DeformConv2dPack backbone.layer3.2.convs.1 is upgraded to version 2.\n",
      "2024-01-18 09:35:38,919 - root - INFO - DeformConv2dPack backbone.layer3.2.convs.2 is upgraded to version 2.\n",
      "2024-01-18 09:35:38,923 - root - INFO - DeformConv2dPack backbone.layer3.3.convs.0 is upgraded to version 2.\n",
      "2024-01-18 09:35:38,925 - root - INFO - DeformConv2dPack backbone.layer3.3.convs.1 is upgraded to version 2.\n",
      "2024-01-18 09:35:38,926 - root - INFO - DeformConv2dPack backbone.layer3.3.convs.2 is upgraded to version 2.\n",
      "2024-01-18 09:35:38,930 - root - INFO - DeformConv2dPack backbone.layer3.4.convs.0 is upgraded to version 2.\n",
      "2024-01-18 09:35:38,931 - root - INFO - DeformConv2dPack backbone.layer3.4.convs.1 is upgraded to version 2.\n",
      "2024-01-18 09:35:38,933 - root - INFO - DeformConv2dPack backbone.layer3.4.convs.2 is upgraded to version 2.\n",
      "2024-01-18 09:35:38,937 - root - INFO - DeformConv2dPack backbone.layer3.5.convs.0 is upgraded to version 2.\n",
      "2024-01-18 09:35:38,939 - root - INFO - DeformConv2dPack backbone.layer3.5.convs.1 is upgraded to version 2.\n",
      "2024-01-18 09:35:38,940 - root - INFO - DeformConv2dPack backbone.layer3.5.convs.2 is upgraded to version 2.\n",
      "2024-01-18 09:35:38,944 - root - INFO - DeformConv2dPack backbone.layer3.6.convs.0 is upgraded to version 2.\n",
      "2024-01-18 09:35:38,945 - root - INFO - DeformConv2dPack backbone.layer3.6.convs.1 is upgraded to version 2.\n",
      "2024-01-18 09:35:38,946 - root - INFO - DeformConv2dPack backbone.layer3.6.convs.2 is upgraded to version 2.\n",
      "2024-01-18 09:35:38,951 - root - INFO - DeformConv2dPack backbone.layer3.7.convs.0 is upgraded to version 2.\n",
      "2024-01-18 09:35:38,953 - root - INFO - DeformConv2dPack backbone.layer3.7.convs.1 is upgraded to version 2.\n",
      "2024-01-18 09:35:38,954 - root - INFO - DeformConv2dPack backbone.layer3.7.convs.2 is upgraded to version 2.\n",
      "2024-01-18 09:35:38,957 - root - INFO - DeformConv2dPack backbone.layer3.8.convs.0 is upgraded to version 2.\n",
      "2024-01-18 09:35:38,959 - root - INFO - DeformConv2dPack backbone.layer3.8.convs.1 is upgraded to version 2.\n",
      "2024-01-18 09:35:38,960 - root - INFO - DeformConv2dPack backbone.layer3.8.convs.2 is upgraded to version 2.\n",
      "2024-01-18 09:35:38,965 - root - INFO - DeformConv2dPack backbone.layer3.9.convs.0 is upgraded to version 2.\n",
      "2024-01-18 09:35:38,966 - root - INFO - DeformConv2dPack backbone.layer3.9.convs.1 is upgraded to version 2.\n",
      "2024-01-18 09:35:38,967 - root - INFO - DeformConv2dPack backbone.layer3.9.convs.2 is upgraded to version 2.\n",
      "2024-01-18 09:35:38,971 - root - INFO - DeformConv2dPack backbone.layer3.10.convs.0 is upgraded to version 2.\n",
      "2024-01-18 09:35:38,972 - root - INFO - DeformConv2dPack backbone.layer3.10.convs.1 is upgraded to version 2.\n",
      "2024-01-18 09:35:38,973 - root - INFO - DeformConv2dPack backbone.layer3.10.convs.2 is upgraded to version 2.\n",
      "2024-01-18 09:35:38,977 - root - INFO - DeformConv2dPack backbone.layer3.11.convs.0 is upgraded to version 2.\n",
      "2024-01-18 09:35:38,979 - root - INFO - DeformConv2dPack backbone.layer3.11.convs.1 is upgraded to version 2.\n",
      "2024-01-18 09:35:38,980 - root - INFO - DeformConv2dPack backbone.layer3.11.convs.2 is upgraded to version 2.\n",
      "2024-01-18 09:35:38,984 - root - INFO - DeformConv2dPack backbone.layer3.12.convs.0 is upgraded to version 2.\n",
      "2024-01-18 09:35:38,985 - root - INFO - DeformConv2dPack backbone.layer3.12.convs.1 is upgraded to version 2.\n",
      "2024-01-18 09:35:38,986 - root - INFO - DeformConv2dPack backbone.layer3.12.convs.2 is upgraded to version 2.\n",
      "2024-01-18 09:35:38,990 - root - INFO - DeformConv2dPack backbone.layer3.13.convs.0 is upgraded to version 2.\n",
      "2024-01-18 09:35:38,992 - root - INFO - DeformConv2dPack backbone.layer3.13.convs.1 is upgraded to version 2.\n",
      "2024-01-18 09:35:38,993 - root - INFO - DeformConv2dPack backbone.layer3.13.convs.2 is upgraded to version 2.\n",
      "2024-01-18 09:35:38,997 - root - INFO - DeformConv2dPack backbone.layer3.14.convs.0 is upgraded to version 2.\n",
      "2024-01-18 09:35:38,998 - root - INFO - DeformConv2dPack backbone.layer3.14.convs.1 is upgraded to version 2.\n",
      "2024-01-18 09:35:38,999 - root - INFO - DeformConv2dPack backbone.layer3.14.convs.2 is upgraded to version 2.\n",
      "2024-01-18 09:35:39,007 - root - INFO - DeformConv2dPack backbone.layer3.15.convs.0 is upgraded to version 2.\n",
      "2024-01-18 09:35:39,009 - root - INFO - DeformConv2dPack backbone.layer3.15.convs.1 is upgraded to version 2.\n",
      "2024-01-18 09:35:39,010 - root - INFO - DeformConv2dPack backbone.layer3.15.convs.2 is upgraded to version 2.\n",
      "2024-01-18 09:35:39,014 - root - INFO - DeformConv2dPack backbone.layer3.16.convs.0 is upgraded to version 2.\n",
      "2024-01-18 09:35:39,028 - root - INFO - DeformConv2dPack backbone.layer3.16.convs.1 is upgraded to version 2.\n",
      "2024-01-18 09:35:39,031 - root - INFO - DeformConv2dPack backbone.layer3.16.convs.2 is upgraded to version 2.\n",
      "2024-01-18 09:35:39,038 - root - INFO - DeformConv2dPack backbone.layer3.17.convs.0 is upgraded to version 2.\n",
      "2024-01-18 09:35:39,041 - root - INFO - DeformConv2dPack backbone.layer3.17.convs.1 is upgraded to version 2.\n",
      "2024-01-18 09:35:39,045 - root - INFO - DeformConv2dPack backbone.layer3.17.convs.2 is upgraded to version 2.\n",
      "2024-01-18 09:35:39,053 - root - INFO - DeformConv2dPack backbone.layer3.18.convs.0 is upgraded to version 2.\n",
      "2024-01-18 09:35:39,056 - root - INFO - DeformConv2dPack backbone.layer3.18.convs.1 is upgraded to version 2.\n",
      "2024-01-18 09:35:39,058 - root - INFO - DeformConv2dPack backbone.layer3.18.convs.2 is upgraded to version 2.\n",
      "2024-01-18 09:35:39,066 - root - INFO - DeformConv2dPack backbone.layer3.19.convs.0 is upgraded to version 2.\n",
      "2024-01-18 09:35:39,070 - root - INFO - DeformConv2dPack backbone.layer3.19.convs.1 is upgraded to version 2.\n",
      "2024-01-18 09:35:39,072 - root - INFO - DeformConv2dPack backbone.layer3.19.convs.2 is upgraded to version 2.\n",
      "2024-01-18 09:35:39,080 - root - INFO - DeformConv2dPack backbone.layer3.20.convs.0 is upgraded to version 2.\n",
      "2024-01-18 09:35:39,083 - root - INFO - DeformConv2dPack backbone.layer3.20.convs.1 is upgraded to version 2.\n",
      "2024-01-18 09:35:39,085 - root - INFO - DeformConv2dPack backbone.layer3.20.convs.2 is upgraded to version 2.\n",
      "2024-01-18 09:35:39,092 - root - INFO - DeformConv2dPack backbone.layer3.21.convs.0 is upgraded to version 2.\n",
      "2024-01-18 09:35:39,096 - root - INFO - DeformConv2dPack backbone.layer3.21.convs.1 is upgraded to version 2.\n",
      "2024-01-18 09:35:39,100 - root - INFO - DeformConv2dPack backbone.layer3.21.convs.2 is upgraded to version 2.\n",
      "2024-01-18 09:35:39,108 - root - INFO - DeformConv2dPack backbone.layer3.22.convs.0 is upgraded to version 2.\n",
      "2024-01-18 09:35:39,111 - root - INFO - DeformConv2dPack backbone.layer3.22.convs.1 is upgraded to version 2.\n",
      "2024-01-18 09:35:39,114 - root - INFO - DeformConv2dPack backbone.layer3.22.convs.2 is upgraded to version 2.\n",
      "2024-01-18 09:35:39,126 - root - INFO - DeformConv2dPack backbone.layer4.0.convs.0 is upgraded to version 2.\n",
      "2024-01-18 09:35:39,129 - root - INFO - DeformConv2dPack backbone.layer4.0.convs.1 is upgraded to version 2.\n",
      "2024-01-18 09:35:39,131 - root - INFO - DeformConv2dPack backbone.layer4.0.convs.2 is upgraded to version 2.\n",
      "2024-01-18 09:35:39,137 - root - INFO - DeformConv2dPack backbone.layer4.1.convs.0 is upgraded to version 2.\n",
      "2024-01-18 09:35:39,139 - root - INFO - DeformConv2dPack backbone.layer4.1.convs.1 is upgraded to version 2.\n",
      "2024-01-18 09:35:39,142 - root - INFO - DeformConv2dPack backbone.layer4.1.convs.2 is upgraded to version 2.\n",
      "2024-01-18 09:35:39,147 - root - INFO - DeformConv2dPack backbone.layer4.2.convs.0 is upgraded to version 2.\n",
      "2024-01-18 09:35:39,149 - root - INFO - DeformConv2dPack backbone.layer4.2.convs.1 is upgraded to version 2.\n",
      "2024-01-18 09:35:39,151 - root - INFO - DeformConv2dPack backbone.layer4.2.convs.2 is upgraded to version 2.\n"
     ]
    }
   ],
   "source": [
    "# checkpoint path\n",
    "checkpoint_path = os.path.join(cfg.work_dir, f'{epoch}.pth')\n",
    "\n",
    "model = build_detector(cfg.model, test_cfg=cfg.get('test_cfg')) # build detector\n",
    "checkpoint = load_checkpoint(model, checkpoint_path, map_location='cpu') # ckpt load\n",
    "\n",
    "model.CLASSES = dataset.CLASSES\n"
   ]
  },
  {
   "cell_type": "code",
   "execution_count": 11,
   "id": "a117c012",
   "metadata": {},
   "outputs": [],
   "source": [
    "model = MMDataParallel(model.cuda(), device_ids=[0])"
   ]
  },
  {
   "cell_type": "code",
   "execution_count": 12,
   "id": "c9f5c2bb",
   "metadata": {},
   "outputs": [
    {
     "name": "stdout",
     "output_type": "stream",
     "text": [
      "[>>>>>>>>>>>>>>>>>>>>>>>>>>>] 4871/4871, 7.3 task/s, elapsed: 666s, ETA:     0s"
     ]
    }
   ],
   "source": [
    "output = single_gpu_test(model, data_loader, show_score_thr=0.05) # output 계산"
   ]
  },
  {
   "cell_type": "code",
   "execution_count": 13,
   "id": "5672a0ff",
   "metadata": {},
   "outputs": [
    {
     "name": "stdout",
     "output_type": "stream",
     "text": [
      "loading annotations into memory...\n",
      "Done (t=0.02s)\n",
      "creating index...\n",
      "index created!\n"
     ]
    },
    {
     "data": {
      "text/html": [
       "<div>\n",
       "<style scoped>\n",
       "    .dataframe tbody tr th:only-of-type {\n",
       "        vertical-align: middle;\n",
       "    }\n",
       "\n",
       "    .dataframe tbody tr th {\n",
       "        vertical-align: top;\n",
       "    }\n",
       "\n",
       "    .dataframe thead th {\n",
       "        text-align: right;\n",
       "    }\n",
       "</style>\n",
       "<table border=\"1\" class=\"dataframe\">\n",
       "  <thead>\n",
       "    <tr style=\"text-align: right;\">\n",
       "      <th></th>\n",
       "      <th>PredictionString</th>\n",
       "      <th>image_id</th>\n",
       "    </tr>\n",
       "  </thead>\n",
       "  <tbody>\n",
       "    <tr>\n",
       "      <th>0</th>\n",
       "      <td>0 0.17783505 240.4078 254.28714 784.7758 774.8...</td>\n",
       "      <td>test/0000.jpg</td>\n",
       "    </tr>\n",
       "    <tr>\n",
       "      <th>1</th>\n",
       "      <td>0 0.17783505 240.4078 254.28714 784.7758 774.8...</td>\n",
       "      <td>test/0001.jpg</td>\n",
       "    </tr>\n",
       "    <tr>\n",
       "      <th>2</th>\n",
       "      <td>0 0.17783505 240.4078 254.28714 784.7758 774.8...</td>\n",
       "      <td>test/0002.jpg</td>\n",
       "    </tr>\n",
       "    <tr>\n",
       "      <th>3</th>\n",
       "      <td>0 0.17783505 240.4078 254.28714 784.7758 774.8...</td>\n",
       "      <td>test/0003.jpg</td>\n",
       "    </tr>\n",
       "    <tr>\n",
       "      <th>4</th>\n",
       "      <td>0 0.17783505 240.4078 254.28714 784.7758 774.8...</td>\n",
       "      <td>test/0004.jpg</td>\n",
       "    </tr>\n",
       "  </tbody>\n",
       "</table>\n",
       "</div>"
      ],
      "text/plain": [
       "                                    PredictionString       image_id\n",
       "0  0 0.17783505 240.4078 254.28714 784.7758 774.8...  test/0000.jpg\n",
       "1  0 0.17783505 240.4078 254.28714 784.7758 774.8...  test/0001.jpg\n",
       "2  0 0.17783505 240.4078 254.28714 784.7758 774.8...  test/0002.jpg\n",
       "3  0 0.17783505 240.4078 254.28714 784.7758 774.8...  test/0003.jpg\n",
       "4  0 0.17783505 240.4078 254.28714 784.7758 774.8...  test/0004.jpg"
      ]
     },
     "execution_count": 13,
     "metadata": {},
     "output_type": "execute_result"
    }
   ],
   "source": [
    "# submission 양식에 맞게 output 후처리\n",
    "prediction_strings = []\n",
    "file_names = []\n",
    "coco = COCO(cfg.data.test.ann_file)\n",
    "img_ids = coco.getImgIds()\n",
    "\n",
    "class_num = 10\n",
    "for i, out in enumerate(output):\n",
    "    prediction_string = ''\n",
    "    image_info = coco.loadImgs(coco.getImgIds(imgIds=i))[0]\n",
    "    for j in range(class_num):\n",
    "        for o in out[j]:\n",
    "            prediction_string += str(j) + ' ' + str(o[4]) + ' ' + str(o[0]) + ' ' + str(o[1]) + ' ' + str(\n",
    "                o[2]) + ' ' + str(o[3]) + ' '\n",
    "        \n",
    "    prediction_strings.append(prediction_string)\n",
    "    file_names.append(image_info['file_name'])\n",
    "\n",
    "\n",
    "submission = pd.DataFrame()\n",
    "submission['PredictionString'] = prediction_strings\n",
    "submission['image_id'] = file_names\n",
    "submission.to_csv(os.path.join(cfg.work_dir, f'submission_{epoch}.csv'), index=None)\n",
    "submission.head()"
   ]
  }
 ],
 "metadata": {
  "kernelspec": {
   "display_name": "Python 3 (ipykernel)",
   "language": "python",
   "name": "python3"
  },
  "language_info": {
   "codemirror_mode": {
    "name": "ipython",
    "version": 3
   },
   "file_extension": ".py",
   "mimetype": "text/x-python",
   "name": "python",
   "nbconvert_exporter": "python",
   "pygments_lexer": "ipython3",
   "version": "3.10.13"
  }
 },
 "nbformat": 4,
 "nbformat_minor": 5
}
